{
 "cells": [
  {
   "cell_type": "code",
   "execution_count": 1,
   "id": "bfef82a0-4ff1-4959-a52f-53362ce10aa7",
   "metadata": {},
   "outputs": [],
   "source": [
    "import pandas as pd\n",
    "import numpy as np\n",
    "import matplotlib.pyplot as plt\n",
    "import seaborn as sns\n",
    "from scipy import stats"
   ]
  },
  {
   "cell_type": "markdown",
   "id": "ea8b7d77-7ade-4083-a2a2-1c7787e5d95a",
   "metadata": {},
   "source": [
    "### Loading of Data "
   ]
  },
  {
   "cell_type": "code",
   "execution_count": null,
   "id": "15fbc799-9f41-467a-8ab2-c97b33ed1b5c",
   "metadata": {},
   "outputs": [],
   "source": [
    "hover_df = pd.read_fwf(\"C:/Users/ADMIN/OneDrive/Desktop/GoalFi/Data/HOVER DATA.txt\")\n",
    "esv_df = pd.read_fwf(\"C:/Users/ADMIN/OneDrive/Desktop/GoalFi/Data/HOVER DATA.txt\")\n",
    "\n",
    "print(hover_df.head())\n",
    "print(esv_df.head())"
   ]
  },
  {
   "cell_type": "code",
   "execution_count": null,
   "id": "07aead3f-3247-4e7d-8ab6-6fc7c2820ce4",
   "metadata": {},
   "outputs": [],
   "source": [
    "def determine_stock_count(investment_amount):\n",
    "    if 500 <= investment_amount <= 50000:\n",
    "        return 3\n",
    "    elif 50001 <= investment_amount <= 1000000:\n",
    "        return 4\n",
    "    else:\n",
    "        return 5"
   ]
  },
  {
   "cell_type": "code",
   "execution_count": null,
   "id": "b2b1d0b9-9836-4659-b346-fbda48a20948",
   "metadata": {},
   "outputs": [],
   "source": [
    "def calculate_max_investment(investment_amount, stock_count):\n",
    "    return investment_amount / stock_count"
   ]
  },
  {
   "cell_type": "code",
   "execution_count": null,
   "id": "31cc969d-7e66-4379-b2c8-8b3acf5c8abb",
   "metadata": {},
   "outputs": [],
   "source": [
    "filtered_stocks = stock_data[\n",
    "    (stock_data['DPA200'] == stock_data['MP200']) &  \n",
    "    (stock_data['DPA50'] == stock_data['MP50']) &  \n",
    "    (stock_data['RSI'] > 60) & (stock_data['RSI'] < 85) &  \n",
    "    (stock_data['Monthly_RSI'] > 40) &  \n",
    "    (stock_data['Weekly_RSI'] > 40) &  \n",
    "    (stock_data['HPA50'] == stock_data['Hourly_MP50']) &  \n",
    "    (stock_data['HBUCO'] == stock_data['Hourly_MCo']) &  \n",
    "    (stock_data['PDEMA20'] > -2) & (stock_data['PDEMA20'] < 2)  \n",
    "]"
   ]
  },
  {
   "cell_type": "code",
   "execution_count": null,
   "id": "15455a17-c811-4a4b-8948-9bd6d0e93709",
   "metadata": {},
   "outputs": [],
   "source": [
    "filtered_stocks = filtered_stocks.sort_values(by=['PDEMA20', 'RSI'], ascending=[False, False])\n",
    "top_stocks = filtered_stocks.head(stock_count)"
   ]
  },
  {
   "cell_type": "code",
   "execution_count": null,
   "id": "4c9dacd9-8019-4474-8773-e0e0c23bd2fe",
   "metadata": {},
   "outputs": [],
   "source": [
    "def churn_portfolio(previous_portfolio, new_stocks):\n",
    "    profits = []\n",
    "    for stock in previous_portfolio:\n",
    "        if stock not in new_stocks:\n",
    "            # Compute profit/loss if stock is sold\n",
    "            profits.append(stock_data.loc[stock]['Current_Price'] - stock_data.loc[stock]['Purchase_Price'])\n",
    "    return sum(profits)"
   ]
  },
  {
   "cell_type": "code",
   "execution_count": null,
   "id": "b26e0a9b-25c3-40b9-a87c-9bb5825c79f5",
   "metadata": {},
   "outputs": [],
   "source": [
    "portfolio_volatility = top_stocks['Daily_Returns'].std()\n",
    "nifty_volatility = nifty_data['Daily_Returns'].std()\n",
    "\n",
    "plt.figure(figsize=(10,5))\n",
    "plt.plot(portfolio_volatility, label=\"Portfolio Volatility\")\n",
    "plt.plot(nifty_volatility, label=\"Nifty Volatility\")\n",
    "plt.legend()\n",
    "plt.title(\"Portfolio vs Nifty Volatility\")\n",
    "plt.show()"
   ]
  },
  {
   "cell_type": "code",
   "execution_count": null,
   "id": "3bd8e86f-e95a-4a9e-8d08-00bee390a78a",
   "metadata": {},
   "outputs": [],
   "source": [
    "portfolio_value = (top_stocks['Current_Price'] * top_stocks['Shares_Held']).sum()\n",
    "print(\"Final Portfolio Value:\", portfolio_value)"
   ]
  },
  {
   "cell_type": "code",
   "execution_count": null,
   "id": "00c3f452-4f2f-449b-a4f0-836f37d89fc7",
   "metadata": {},
   "outputs": [],
   "source": [
    "t_stat, p_value = stats.ttest_ind(top_stocks['Daily_Returns'], nifty_data['Daily_Returns'])\n",
    "print(\"T-Test P-value:\", p_value)"
   ]
  },
  {
   "cell_type": "code",
   "execution_count": null,
   "id": "0fd8d717-4d7b-4c7e-b4b4-ea8738f2e0a7",
   "metadata": {},
   "outputs": [],
   "source": [
    "sns.histplot(top_stocks['RSI'], bins=20)\n",
    "plt.title(\"Distribution of RSI in Selected Stocks\")\n",
    "plt.show()"
   ]
  }
 ],
 "metadata": {
  "kernelspec": {
   "display_name": "Python 3 (ipykernel)",
   "language": "python",
   "name": "python3"
  },
  "language_info": {
   "codemirror_mode": {
    "name": "ipython",
    "version": 3
   },
   "file_extension": ".py",
   "mimetype": "text/x-python",
   "name": "python",
   "nbconvert_exporter": "python",
   "pygments_lexer": "ipython3",
   "version": "3.12.4"
  }
 },
 "nbformat": 4,
 "nbformat_minor": 5
}
